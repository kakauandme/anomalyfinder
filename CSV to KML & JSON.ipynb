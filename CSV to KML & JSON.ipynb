{
 "cells": [
  {
   "cell_type": "code",
   "execution_count": 1,
   "metadata": {
    "collapsed": true
   },
   "outputs": [],
   "source": [
    "import pandas  as pd\n",
    "%matplotlib inline\n",
    "import matplotlib.pyplot as plt\n",
    "import datetime as dt\n",
    "\n",
    "import numpy as np"
   ]
  },
  {
   "cell_type": "code",
   "execution_count": 15,
   "metadata": {
    "collapsed": false,
    "scrolled": true
   },
   "outputs": [
    {
     "data": {
      "text/html": [
       "<div>\n",
       "<table border=\"1\" class=\"dataframe\">\n",
       "  <thead>\n",
       "    <tr style=\"text-align: right;\">\n",
       "      <th></th>\n",
       "      <th>latitude</th>\n",
       "      <th>longitude</th>\n",
       "      <th>datetime</th>\n",
       "      <th>power</th>\n",
       "    </tr>\n",
       "  </thead>\n",
       "  <tbody>\n",
       "    <tr>\n",
       "      <th>0</th>\n",
       "      <td>-15.0460</td>\n",
       "      <td>144.3795</td>\n",
       "      <td>2015-01-01 01:04:50</td>\n",
       "      <td>14.2</td>\n",
       "    </tr>\n",
       "    <tr>\n",
       "      <th>1</th>\n",
       "      <td>-15.8927</td>\n",
       "      <td>136.6096</td>\n",
       "      <td>2015-01-01 01:00:50</td>\n",
       "      <td>11.9</td>\n",
       "    </tr>\n",
       "    <tr>\n",
       "      <th>2</th>\n",
       "      <td>-17.1466</td>\n",
       "      <td>145.8501</td>\n",
       "      <td>2015-01-01 01:00:50</td>\n",
       "      <td>10.0</td>\n",
       "    </tr>\n",
       "    <tr>\n",
       "      <th>3</th>\n",
       "      <td>-18.0796</td>\n",
       "      <td>122.6971</td>\n",
       "      <td>2015-01-01 02:41:30</td>\n",
       "      <td>11.1</td>\n",
       "    </tr>\n",
       "    <tr>\n",
       "      <th>4</th>\n",
       "      <td>-18.0764</td>\n",
       "      <td>122.6902</td>\n",
       "      <td>2015-01-01 02:45:40</td>\n",
       "      <td>11.0</td>\n",
       "    </tr>\n",
       "  </tbody>\n",
       "</table>\n",
       "</div>"
      ],
      "text/plain": [
       "   latitude  longitude            datetime  power\n",
       "0  -15.0460   144.3795 2015-01-01 01:04:50   14.2\n",
       "1  -15.8927   136.6096 2015-01-01 01:00:50   11.9\n",
       "2  -17.1466   145.8501 2015-01-01 01:00:50   10.0\n",
       "3  -18.0796   122.6971 2015-01-01 02:41:30   11.1\n",
       "4  -18.0764   122.6902 2015-01-01 02:45:40   11.0"
      ]
     },
     "execution_count": 15,
     "metadata": {},
     "output_type": "execute_result"
    }
   ],
   "source": [
    "#Input the file name.\"JoeDupes3_forearth\"\n",
    "fname = 'hotspot_2015'\n",
    "\n",
    "data = pd.read_csv(fname+\".csv\", parse_dates=['datetime'], usecols=['latitude','longitude','datetime', 'power'])\n",
    "#Skip the 1st header row.\n",
    "#data.next()\n",
    "data.head()"
   ]
  },
  {
   "cell_type": "code",
   "execution_count": 3,
   "metadata": {
    "collapsed": false
   },
   "outputs": [
    {
     "data": {
      "text/plain": [
       "1810.5999999999999"
      ]
     },
     "execution_count": 3,
     "metadata": {},
     "output_type": "execute_result"
    }
   ],
   "source": [
    "max(data.power)"
   ]
  },
  {
   "cell_type": "code",
   "execution_count": 4,
   "metadata": {
    "collapsed": false,
    "scrolled": true
   },
   "outputs": [
    {
     "data": {
      "text/plain": [
       "(array([   189.,  31077.,  47088.,  33699.,  22275.,  15110.,  10847.,\n",
       "          7921.,   6193.,   4849.,   3956.,   3268.,   2780.,   2257.,\n",
       "          1889.,   1640.,   1526.,   1353.,   1158.,   1042.,    903.,\n",
       "           795.,    710.,    645.,    611.,    492.,    494.,    445.,\n",
       "           389.,    367.,    280.,    350.,    299.,    280.,    263.,\n",
       "           240.,    222.,    216.,    197.,    178.,    167.,    159.,\n",
       "           139.,    143.,    139.,    138.,    119.,    110.,     98.,\n",
       "            92.,     77.,     90.,    115.,     87.,     90.,     79.,\n",
       "            58.,     72.,     76.]),\n",
       " array([   0.,    5.,   10.,   15.,   20.,   25.,   30.,   35.,   40.,\n",
       "          45.,   50.,   55.,   60.,   65.,   70.,   75.,   80.,   85.,\n",
       "          90.,   95.,  100.,  105.,  110.,  115.,  120.,  125.,  130.,\n",
       "         135.,  140.,  145.,  150.,  155.,  160.,  165.,  170.,  175.,\n",
       "         180.,  185.,  190.,  195.,  200.,  205.,  210.,  215.,  220.,\n",
       "         225.,  230.,  235.,  240.,  245.,  250.,  255.,  260.,  265.,\n",
       "         270.,  275.,  280.,  285.,  290.,  295.]),\n",
       " <a list of 59 Patch objects>)"
      ]
     },
     "execution_count": 4,
     "metadata": {},
     "output_type": "execute_result"
    },
    {
     "data": {
      "image/png": "[encoded data removed]",
      "text/plain": [
       "<matplotlib.figure.Figure at 0x110665f60>"
      ]
     },
     "metadata": {},
     "output_type": "display_data"
    }
   ],
   "source": [
    "binwidth = 5\n",
    "plt.hist(data.power, bins=np.arange(min(data.power), 300, binwidth))"
   ]
  },
  {
   "cell_type": "code",
   "execution_count": 5,
   "metadata": {
    "collapsed": false
   },
   "outputs": [
    {
     "data": {
      "text/plain": [
       "(array([  2.85300000e+03,   9.18400000e+03,   1.63450000e+04,\n",
       "          1.76640000e+04,   1.93230000e+04,   2.32530000e+04,\n",
       "          2.84350000e+04,   3.19250000e+04,   2.77030000e+04,\n",
       "          2.42970000e+04,   1.97850000e+04,   1.21530000e+04,\n",
       "          8.39700000e+03,   6.03500000e+03,   4.46700000e+03,\n",
       "          3.42600000e+03,   2.60400000e+03,   1.89800000e+03,\n",
       "          1.52900000e+03,   1.22500000e+03,   9.71000000e+02,\n",
       "          7.72000000e+02,   6.16000000e+02,   5.05000000e+02,\n",
       "          4.03000000e+02,   2.97000000e+02,   2.77000000e+02,\n",
       "          2.16000000e+02,   1.66000000e+02,   1.01000000e+02,\n",
       "          1.16000000e+02,   9.70000000e+01,   6.40000000e+01,\n",
       "          5.20000000e+01,   4.20000000e+01,   3.80000000e+01,\n",
       "          3.00000000e+01,   2.40000000e+01,   1.90000000e+01,\n",
       "          8.00000000e+00,   9.00000000e+00,   6.00000000e+00,\n",
       "          7.00000000e+01]),\n",
       " array([ 288.,  293.,  298.,  303.,  308.,  313.,  318.,  323.,  328.,\n",
       "         333.,  338.,  343.,  348.,  353.,  358.,  363.,  368.,  373.,\n",
       "         378.,  383.,  388.,  393.,  398.,  403.,  408.,  413.,  418.,\n",
       "         423.,  428.,  433.,  438.,  443.,  448.,  453.,  458.,  463.,\n",
       "         468.,  473.,  478.,  483.,  488.,  493.,  498.,  503.]),\n",
       " <a list of 43 Patch objects>)"
      ]
     },
     "execution_count": 5,
     "metadata": {},
     "output_type": "execute_result"
    },
    {
     "data": {
      "image/png": "[encoded data removed]",
      "text/plain": [
       "<matplotlib.figure.Figure at 0x111585ac8>"
      ]
     },
     "metadata": {},
     "output_type": "display_data"
    }
   ],
   "source": [
    "binwidth = 5\n",
    "plt.hist(data.temp_kelvin, bins=np.arange(min(data.temp_kelvin), max(data.temp_kelvin), binwidth))"
   ]
  },
  {
   "cell_type": "code",
   "execution_count": 6,
   "metadata": {
    "collapsed": false
   },
   "outputs": [
    {
     "data": {
      "text/plain": [
       "(444900, 23)"
      ]
     },
     "execution_count": 6,
     "metadata": {},
     "output_type": "execute_result"
    }
   ],
   "source": [
    "data.shape"
   ]
  },
  {
   "cell_type": "code",
   "execution_count": 7,
   "metadata": {
    "collapsed": false
   },
   "outputs": [],
   "source": [
    "f = open(fname + '.kml', 'w')\n",
    "\n",
    "#Writing the kml file.\n",
    "f.write(\"<?xml version='1.0' encoding='UTF-8'?>\\n\")\n",
    "f.write(\"<kml xmlns='http://earth.google.com/kml/2.1'>\\n\")\n",
    "f.write(\"<Document>\\n\")\n",
    "f.write(\"   <name>\" + fname + '.kml' +\"</name>\\n\")\n",
    "for i, fid in enumerate(data.FID[:1000]):\n",
    "    if data.power[i] < 50:\n",
    "        continue\n",
    "    f.write(\"   <Placemark>\\n\")\n",
    "    f.write(\"       <name>\" + str(data.temp_kelvin[i]  -273.15) + \"C</name>\\n\")\n",
    "    f.write(\"       <description>\" +  str(data.datetime[i]) +\"</description>\\n\")\n",
    "    f.write(\"       <Point>\\n\")\n",
    "    f.write(\"           <coordinates>\" + str(data.longitude[i]) + \",\" + str(data.latitude[i]) +\"</coordinates>\\n\")\n",
    "    f.write(\"       </Point>\\n\")\n",
    "    f.write(\"   </Placemark>\\n\")\n",
    "f.write(\"</Document>\\n\")\n",
    "f.write(\"</kml>\\n\")\n",
    "f.close()"
   ]
  },
  {
   "cell_type": "code",
   "execution_count": 16,
   "metadata": {
    "collapsed": false
   },
   "outputs": [],
   "source": [
    "json = data[df.line_race != 0].to_json(orient=\"records\")\n"
   ]
  },
  {
   "cell_type": "code",
   "execution_count": 19,
   "metadata": {
    "collapsed": false
   },
   "outputs": [],
   "source": [
    "f = open('data.js', 'w')\n",
    "f.write('var data = ' + json + \";\")\n",
    "f.close()"
   ]
  }
 ],
 "metadata": {
  "kernelspec": {
   "display_name": "Python 3",
   "language": "python",
   "name": "python3"
  },
  "language_info": {
   "codemirror_mode": {
    "name": "ipython",
    "version": 3
   },
   "file_extension": ".py",
   "mimetype": "text/x-python",
   "name": "python",
   "nbconvert_exporter": "python",
   "pygments_lexer": "ipython3",
   "version": "3.5.1"
  }
 },
 "nbformat": 4,
 "nbformat_minor": 0
}
