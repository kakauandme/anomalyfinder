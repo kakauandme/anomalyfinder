{
 "cells": [
  {
   "cell_type": "code",
   "execution_count": 1,
   "metadata": {
    "collapsed": false
   },
   "outputs": [],
   "source": [
    "%matplotlib inline\n",
    "import numpy as np\n",
    "\n",
    "import matplotlib.pyplot as plt\n",
    "import pandas as pd\n",
    "\n",
    "from scipy import stats\n",
    " \n",
    "from sklearn import svm\n",
    "import sklearn.preprocessing\n",
    "from sklearn.decomposition import PCA"
   ]
  },
  {
   "cell_type": "code",
   "execution_count": 2,
   "metadata": {
    "collapsed": false
   },
   "outputs": [
    {
     "data": {
      "text/html": [
       "<div>\n",
       "<table border=\"1\" class=\"dataframe\">\n",
       "  <thead>\n",
       "    <tr style=\"text-align: right;\">\n",
       "      <th></th>\n",
       "      <th>datetime</th>\n",
       "      <th>latitude</th>\n",
       "      <th>longitude</th>\n",
       "      <th>ta</th>\n",
       "      <th>wd</th>\n",
       "      <th>ws</th>\n",
       "      <th>rh</th>\n",
       "      <th>fsd</th>\n",
       "    </tr>\n",
       "  </thead>\n",
       "  <tbody>\n",
       "    <tr>\n",
       "      <th>0</th>\n",
       "      <td>2015-01-01 01:00:00</td>\n",
       "      <td>-37.9</td>\n",
       "      <td>145.3</td>\n",
       "      <td>17.39458</td>\n",
       "      <td>112.645153</td>\n",
       "      <td>2.538481</td>\n",
       "      <td>79.370460</td>\n",
       "      <td>253.944641</td>\n",
       "    </tr>\n",
       "    <tr>\n",
       "      <th>1</th>\n",
       "      <td>2015-01-01 01:00:00</td>\n",
       "      <td>-32.1</td>\n",
       "      <td>115.9</td>\n",
       "      <td>22.10339</td>\n",
       "      <td>194.336502</td>\n",
       "      <td>4.459360</td>\n",
       "      <td>52.160203</td>\n",
       "      <td>351.146603</td>\n",
       "    </tr>\n",
       "    <tr>\n",
       "      <th>2</th>\n",
       "      <td>2015-01-01 02:00:00</td>\n",
       "      <td>-31.9</td>\n",
       "      <td>115.9</td>\n",
       "      <td>22.10339</td>\n",
       "      <td>194.336502</td>\n",
       "      <td>4.459360</td>\n",
       "      <td>52.160203</td>\n",
       "      <td>351.146603</td>\n",
       "    </tr>\n",
       "    <tr>\n",
       "      <th>3</th>\n",
       "      <td>2015-01-01 02:00:00</td>\n",
       "      <td>-31.9</td>\n",
       "      <td>115.9</td>\n",
       "      <td>22.10339</td>\n",
       "      <td>194.336502</td>\n",
       "      <td>4.459360</td>\n",
       "      <td>52.160203</td>\n",
       "      <td>351.146603</td>\n",
       "    </tr>\n",
       "    <tr>\n",
       "      <th>4</th>\n",
       "      <td>2015-01-01 02:00:00</td>\n",
       "      <td>-31.8</td>\n",
       "      <td>115.8</td>\n",
       "      <td>22.10339</td>\n",
       "      <td>194.336502</td>\n",
       "      <td>4.459360</td>\n",
       "      <td>52.160203</td>\n",
       "      <td>351.146603</td>\n",
       "    </tr>\n",
       "  </tbody>\n",
       "</table>\n",
       "</div>"
      ],
      "text/plain": [
       "              datetime  latitude  longitude        ta          wd        ws  \\\n",
       "0  2015-01-01 01:00:00     -37.9      145.3  17.39458  112.645153  2.538481   \n",
       "1  2015-01-01 01:00:00     -32.1      115.9  22.10339  194.336502  4.459360   \n",
       "2  2015-01-01 02:00:00     -31.9      115.9  22.10339  194.336502  4.459360   \n",
       "3  2015-01-01 02:00:00     -31.9      115.9  22.10339  194.336502  4.459360   \n",
       "4  2015-01-01 02:00:00     -31.8      115.8  22.10339  194.336502  4.459360   \n",
       "\n",
       "          rh         fsd  \n",
       "0  79.370460  253.944641  \n",
       "1  52.160203  351.146603  \n",
       "2  52.160203  351.146603  \n",
       "3  52.160203  351.146603  \n",
       "4  52.160203  351.146603  "
      ]
     },
     "execution_count": 2,
     "metadata": {},
     "output_type": "execute_result"
    }
   ],
   "source": [
    "#read the consolidated data file\n",
    "\n",
    "fname = 'hotspots_with_average_sensors_data'\n",
    "data = pd.read_csv(fname+\".csv\")\n",
    "# print(data.columns)\n",
    "data.head()"
   ]
  },
  {
   "cell_type": "code",
   "execution_count": 3,
   "metadata": {
    "collapsed": false,
    "scrolled": true
   },
   "outputs": [
    {
     "name": "stdout",
     "output_type": "stream",
     "text": [
      "(12267, 5)\n"
     ]
    }
   ],
   "source": [
    "# get the variables - all columns without latitude, longitude and time\n",
    "X_raw=data.as_matrix()\n",
    "X_raw= X_raw[:,3:]\n",
    "\n",
    "#take a look at it\n",
    "print(X_raw.shape)"
   ]
  },
  {
   "cell_type": "code",
   "execution_count": 4,
   "metadata": {
    "collapsed": true
   },
   "outputs": [],
   "source": [
    "# X_raw= X_raw[:1000,1:-1]"
   ]
  },
  {
   "cell_type": "code",
   "execution_count": 5,
   "metadata": {
    "collapsed": false,
    "scrolled": true
   },
   "outputs": [
    {
     "name": "stdout",
     "output_type": "stream",
     "text": [
      "[[  40.45350813   17.38145378]\n",
      " [  -2.27084475 -104.78279166]\n",
      " [  -2.27084475 -104.78279166]\n",
      " [  -2.27084475 -104.78279166]]\n"
     ]
    }
   ],
   "source": [
    "###### pca - dimention reduction to two dimentian \n",
    "pca = PCA(n_components=2)\n",
    "X=pca.fit_transform(X_raw)\n",
    "\n",
    "#take a look after pca\n",
    "print(X[:4,:])"
   ]
  },
  {
   "cell_type": "code",
   "execution_count": 6,
   "metadata": {
    "collapsed": false
   },
   "outputs": [
    {
     "name": "stdout",
     "output_type": "stream",
     "text": [
      "OneClassSVM(cache_size=200, coef0=0.0, degree=3, gamma=0.1, kernel='rbf',\n",
      "      max_iter=-1, nu=0.05095, random_state=None, shrinking=True,\n",
      "      tol=0.001, verbose=False)\n"
     ]
    }
   ],
   "source": [
    "# we will mark the oddest 0.1% of entries as anomalies\n",
    "outliers_fraction=0.001\n",
    "model=svm.OneClassSVM(nu=0.95 * outliers_fraction + 0.05,  kernel=\"rbf\", gamma=0.1).fit(X)\n",
    "print(model)\n"
   ]
  },
  {
   "cell_type": "code",
   "execution_count": 7,
   "metadata": {
    "collapsed": false
   },
   "outputs": [],
   "source": [
    "#predicted score of a point NOT being an outlier\n",
    "y_pred = model.decision_function(X).ravel()\n"
   ]
  },
  {
   "cell_type": "code",
   "execution_count": 8,
   "metadata": {
    "collapsed": false
   },
   "outputs": [
    {
     "name": "stdout",
     "output_type": "stream",
     "text": [
      "-0.000480528529984\n"
     ]
    }
   ],
   "source": [
    "##potentially we can let user to change the treshhold\n",
    "threshold = stats.scoreatpercentile(y_pred,100 * outliers_fraction)\n",
    "print(threshold)"
   ]
  },
  {
   "cell_type": "code",
   "execution_count": 9,
   "metadata": {
    "collapsed": false,
    "scrolled": true
   },
   "outputs": [],
   "source": [
    "y_pred = y_pred <= threshold\n",
    "# print(y_pred)"
   ]
  },
  {
   "cell_type": "code",
   "execution_count": 10,
   "metadata": {
    "collapsed": false
   },
   "outputs": [
    {
     "name": "stdout",
     "output_type": "stream",
     "text": [
      "[[  40.45350813   17.38145378    0.        ]\n",
      " [  -2.27084475 -104.78279166    0.        ]\n",
      " [  -2.27084475 -104.78279166    0.        ]\n",
      " [  -2.27084475 -104.78279166    0.        ]\n",
      " [  -2.27084475 -104.78279166    0.        ]]\n"
     ]
    }
   ],
   "source": [
    "#save original data and a flag=1 if the point is an outlier\n",
    "X_new = np.c_[X, y_pred]\n",
    "# print(min(X[:,1]))\n",
    "print(X_new[:5, :])"
   ]
  },
  {
   "cell_type": "code",
   "execution_count": 11,
   "metadata": {
    "collapsed": false
   },
   "outputs": [
    {
     "data": {
      "image/png": "[encoded data removed]",
      "text/plain": [
       "<matplotlib.figure.Figure at 0x108ae8a90>"
      ]
     },
     "metadata": {},
     "output_type": "display_data"
    }
   ],
   "source": [
    "#plotting the stuff\n",
    "marg=5\n",
    "xx, yy = np.meshgrid(np.linspace(min(X[:,0])-marg, max(X[:,0])+marg, 500), np.linspace(min(X[:,1])-marg, max(X[:,1])+marg, 500))\n",
    "Z = model.decision_function(np.c_[xx.ravel(), yy.ravel()])\n",
    "Z = Z.reshape(xx.shape)\n",
    "\n",
    "plt.figure()\n",
    "\n",
    "#contour lines for outlier detection\n",
    "plt.contourf(xx, yy, Z, levels=np.linspace(Z.min(), threshold, 7),cmap=plt.cm.Blues_r)\n",
    "plt.contourf(xx, yy, Z, levels=[threshold, Z.max()],colors='orange')\n",
    "\n",
    "#scatterplot of the data\n",
    "\n",
    "plt.scatter(X_new[X_new[:, 2] == 1][:, 0], X_new[X_new[:, 2] == 1][:, 1], color='red', label='outliers')\n",
    "plt.scatter(X_new[X_new[:, 2] == 0][:, 0], X_new[X_new[:, 2] == 0][:, 1], color='black', label='inliers')\n",
    "plt.axis('off')\n",
    "plt.show()"
   ]
  },
  {
   "cell_type": "code",
   "execution_count": 12,
   "metadata": {
    "collapsed": false,
    "scrolled": false
   },
   "outputs": [
    {
     "data": {
      "text/html": [
       "<div>\n",
       "<table border=\"1\" class=\"dataframe\">\n",
       "  <thead>\n",
       "    <tr style=\"text-align: right;\">\n",
       "      <th></th>\n",
       "      <th>datetime</th>\n",
       "      <th>latitude</th>\n",
       "      <th>longitude</th>\n",
       "      <th>ta</th>\n",
       "      <th>wd</th>\n",
       "      <th>ws</th>\n",
       "      <th>rh</th>\n",
       "      <th>fsd</th>\n",
       "      <th>outlier</th>\n",
       "    </tr>\n",
       "  </thead>\n",
       "  <tbody>\n",
       "    <tr>\n",
       "      <th>0</th>\n",
       "      <td>2015-01-01 01:00:00</td>\n",
       "      <td>-37.9</td>\n",
       "      <td>145.3</td>\n",
       "      <td>17.39458</td>\n",
       "      <td>112.645153</td>\n",
       "      <td>2.538481</td>\n",
       "      <td>79.370460</td>\n",
       "      <td>253.944641</td>\n",
       "      <td>0</td>\n",
       "    </tr>\n",
       "    <tr>\n",
       "      <th>1</th>\n",
       "      <td>2015-01-01 01:00:00</td>\n",
       "      <td>-32.1</td>\n",
       "      <td>115.9</td>\n",
       "      <td>22.10339</td>\n",
       "      <td>194.336502</td>\n",
       "      <td>4.459360</td>\n",
       "      <td>52.160203</td>\n",
       "      <td>351.146603</td>\n",
       "      <td>0</td>\n",
       "    </tr>\n",
       "    <tr>\n",
       "      <th>2</th>\n",
       "      <td>2015-01-01 02:00:00</td>\n",
       "      <td>-31.9</td>\n",
       "      <td>115.9</td>\n",
       "      <td>22.10339</td>\n",
       "      <td>194.336502</td>\n",
       "      <td>4.459360</td>\n",
       "      <td>52.160203</td>\n",
       "      <td>351.146603</td>\n",
       "      <td>0</td>\n",
       "    </tr>\n",
       "    <tr>\n",
       "      <th>3</th>\n",
       "      <td>2015-01-01 02:00:00</td>\n",
       "      <td>-31.9</td>\n",
       "      <td>115.9</td>\n",
       "      <td>22.10339</td>\n",
       "      <td>194.336502</td>\n",
       "      <td>4.459360</td>\n",
       "      <td>52.160203</td>\n",
       "      <td>351.146603</td>\n",
       "      <td>0</td>\n",
       "    </tr>\n",
       "    <tr>\n",
       "      <th>4</th>\n",
       "      <td>2015-01-01 02:00:00</td>\n",
       "      <td>-31.8</td>\n",
       "      <td>115.8</td>\n",
       "      <td>22.10339</td>\n",
       "      <td>194.336502</td>\n",
       "      <td>4.459360</td>\n",
       "      <td>52.160203</td>\n",
       "      <td>351.146603</td>\n",
       "      <td>0</td>\n",
       "    </tr>\n",
       "  </tbody>\n",
       "</table>\n",
       "</div>"
      ],
      "text/plain": [
       "              datetime  latitude  longitude        ta          wd        ws  \\\n",
       "0  2015-01-01 01:00:00     -37.9      145.3  17.39458  112.645153  2.538481   \n",
       "1  2015-01-01 01:00:00     -32.1      115.9  22.10339  194.336502  4.459360   \n",
       "2  2015-01-01 02:00:00     -31.9      115.9  22.10339  194.336502  4.459360   \n",
       "3  2015-01-01 02:00:00     -31.9      115.9  22.10339  194.336502  4.459360   \n",
       "4  2015-01-01 02:00:00     -31.8      115.8  22.10339  194.336502  4.459360   \n",
       "\n",
       "          rh         fsd  outlier  \n",
       "0  79.370460  253.944641        0  \n",
       "1  52.160203  351.146603        0  \n",
       "2  52.160203  351.146603        0  \n",
       "3  52.160203  351.146603        0  \n",
       "4  52.160203  351.146603        0  "
      ]
     },
     "execution_count": 12,
     "metadata": {},
     "output_type": "execute_result"
    }
   ],
   "source": [
    "#add a column with outlier flag ot the data\n",
    "data['outlier']=X_new[:, 2].astype(int)\n",
    "data.head()"
   ]
  },
  {
   "cell_type": "code",
   "execution_count": 13,
   "metadata": {
    "collapsed": false
   },
   "outputs": [],
   "source": [
    "#convert output to json and save it\n",
    "output=data.to_json(orient=\"records\")\n",
    "\n",
    "f = open('website_data.js', 'w')\n",
    "f.write('var data = ' + output + \";\")\n",
    "f.close()\n",
    "\n"
   ]
  }
 ],
 "metadata": {
  "kernelspec": {
   "display_name": "Python 3",
   "language": "python",
   "name": "python3"
  },
  "language_info": {
   "codemirror_mode": {
    "name": "ipython",
    "version": 3
   },
   "file_extension": ".py",
   "mimetype": "text/x-python",
   "name": "python",
   "nbconvert_exporter": "python",
   "pygments_lexer": "ipython3",
   "version": "3.5.1"
  }
 },
 "nbformat": 4,
 "nbformat_minor": 0
}
