{
 "cells": [
  {
   "cell_type": "code",
   "execution_count": 8,
   "metadata": {
    "collapsed": false
   },
   "outputs": [],
   "source": [
    "from thredds_crawler.crawl import Crawl\n",
    "\n",
    "from netCDF4 import Dataset"
   ]
  },
  {
   "cell_type": "code",
   "execution_count": 5,
   "metadata": {
    "collapsed": false
   },
   "outputs": [
    {
     "name": "stdout",
     "output_type": "stream",
     "text": [
      "<LeafDataset id: MODIS-One-Agg, name: 1-Day-Aggregation, services: ['OPENDAP', 'ISO']>\n",
      "<LeafDataset id: MODIS-Three-Agg, name: 3-Day-Aggregation, services: ['OPENDAP', 'ISO']>\n",
      "<LeafDataset id: MODIS-Eight-Agg, name: 8-Day-Aggregation, services: ['OPENDAP', 'ISO']>\n",
      "<LeafDataset id: MODIS-Chesapeake-Salinity-Agg, name: Chesapeake Bay MODIS Salinity Aggregation, services: ['OPENDAP', 'ISO']>\n",
      "<LeafDataset id: MODIS-Chesapeake-Salinity-3Day-Agg, name: Chesapeake Bay MODIS Salinity 3-Day Aggregation, services: ['OPENDAP', 'ISO']>\n",
      "<LeafDataset id: MODIS-Chesapeake-Salinity-8Day-Agg, name: Chesapeake Bay MODIS Salinity 8-Day Aggregation, services: ['OPENDAP', 'ISO']>\n",
      "<LeafDataset id: MODIS-Delaware-Salinity-Agg, name: Delaware MODIS Salinity Aggregation, services: ['OPENDAP', 'ISO']>\n",
      "<LeafDataset id: MODIS-Delaware-Salinity-3Day-Agg, name: Delaware MODIS Salinity 3-Day Aggregation, services: ['OPENDAP', 'ISO']>\n",
      "<LeafDataset id: MODIS-Delaware-Salinity-8Day-Agg, name: Delaware MODIS Salinity 8-Day Aggregation, services: ['OPENDAP', 'ISO']>\n",
      "<LeafDataset id: MODIS-MidAtlantic-Salinity-Agg, name: Mid-Atlantic MODIS Salinity Aggregation, services: ['OPENDAP', 'ISO']>\n",
      "<LeafDataset id: MODIS-MidAtlantic-Salinity-3Day-Agg, name: Mid-Atlantic MODIS Salinity 3-Day Aggregation, services: ['OPENDAP', 'ISO']>\n",
      "<LeafDataset id: MODIS-MidAtlantic-Salinity-8Day-Agg, name: Mid-Atlantic MODIS Salinity 8-Day Aggregation, services: ['OPENDAP', 'ISO']>\n"
     ]
    }
   ],
   "source": [
    "c = Crawl(\"http://tds.maracoos.org/thredds/MODIS.xml\", select=[\".*-Agg\"])\n"
   ]
  },
  {
   "cell_type": "code",
   "execution_count": 6,
   "metadata": {
    "collapsed": false
   },
   "outputs": [
    {
     "name": "stdout",
     "output_type": "stream",
     "text": [
      "<LeafDataset id: MODIS-One-Agg, name: 1-Day-Aggregation, services: ['OPENDAP', 'ISO']>\n",
      "<LeafDataset id: MODIS-Three-Agg, name: 3-Day-Aggregation, services: ['OPENDAP', 'ISO']>\n",
      "<LeafDataset id: MODIS-Eight-Agg, name: 8-Day-Aggregation, services: ['OPENDAP', 'ISO']>\n",
      "<LeafDataset id: MODIS-Chesapeake-Salinity-Agg, name: Chesapeake Bay MODIS Salinity Aggregation, services: ['OPENDAP', 'ISO']>\n",
      "<LeafDataset id: MODIS-Chesapeake-Salinity-3Day-Agg, name: Chesapeake Bay MODIS Salinity 3-Day Aggregation, services: ['OPENDAP', 'ISO']>\n",
      "<LeafDataset id: MODIS-Chesapeake-Salinity-8Day-Agg, name: Chesapeake Bay MODIS Salinity 8-Day Aggregation, services: ['OPENDAP', 'ISO']>\n",
      "<LeafDataset id: MODIS-Delaware-Salinity-Agg, name: Delaware MODIS Salinity Aggregation, services: ['OPENDAP', 'ISO']>\n",
      "<LeafDataset id: MODIS-Delaware-Salinity-3Day-Agg, name: Delaware MODIS Salinity 3-Day Aggregation, services: ['OPENDAP', 'ISO']>\n",
      "<LeafDataset id: MODIS-Delaware-Salinity-8Day-Agg, name: Delaware MODIS Salinity 8-Day Aggregation, services: ['OPENDAP', 'ISO']>\n",
      "<LeafDataset id: MODIS-MidAtlantic-Salinity-Agg, name: Mid-Atlantic MODIS Salinity Aggregation, services: ['OPENDAP', 'ISO']>\n",
      "<LeafDataset id: MODIS-MidAtlantic-Salinity-3Day-Agg, name: Mid-Atlantic MODIS Salinity 3-Day Aggregation, services: ['OPENDAP', 'ISO']>\n",
      "<LeafDataset id: MODIS-MidAtlantic-Salinity-8Day-Agg, name: Mid-Atlantic MODIS Salinity 8-Day Aggregation, services: ['OPENDAP', 'ISO']>\n"
     ]
    }
   ],
   "source": [
    "for a in c.datasets:\n",
    "    print (a) \n"
   ]
  },
  {
   "cell_type": "code",
   "execution_count": 14,
   "metadata": {
    "collapsed": false
   },
   "outputs": [],
   "source": [
    "d = Dataset(filename=\"http://dapds00.nci.org.au/thredds/dodsC/eMAST_TERN/Climate/eMAST/ANUClimate/0_01deg/v1m0_aus/yr/land/ramt/e_01/1970_2012/eMAST_ANUClimate_yr_ramt_v1m0_1970_2012_agg.ncml?latitude[0:5:3473],longitude[0:5:4109],time[0:1:42],radiation_of_warmest_month[0:1:42][0:5:3473][0:5:4109]\")"
   ]
  },
  {
   "cell_type": "code",
   "execution_count": 25,
   "metadata": {
    "collapsed": false
   },
   "outputs": [
    {
     "name": "stdout",
     "output_type": "stream",
     "text": [
      "<class 'netCDF4._netCDF4.Variable'>\n",
      "float32 radiation_of_warmest_month(time, latitude, longitude)\n",
      "    cell_methods: yr\n",
      "    standard_name: air_temperature\n",
      "    grid_mapping: crs\n",
      "    long_name: Annual Radiation of warmest month\n",
      "    _FillValue: -9999.0\n",
      "unlimited dimensions: \n",
      "current shape = (43, 695, 822)\n",
      "filling off\n",
      "\n"
     ]
    }
   ],
   "source": [
    "print (d.variables['radiation_of_warmest_month'])"
   ]
  },
  {
   "cell_type": "code",
   "execution_count": 23,
   "metadata": {
    "collapsed": false
   },
   "outputs": [
    {
     "name": "stdout",
     "output_type": "stream",
     "text": [
      "-3.4e+38\n"
     ]
    }
   ],
   "source": [
    "print (d.variables['radiation_of_warmest_month'][0][0][0])"
   ]
  },
  {
   "cell_type": "code",
   "execution_count": null,
   "metadata": {
    "collapsed": true
   },
   "outputs": [],
   "source": []
  }
 ],
 "metadata": {
  "kernelspec": {
   "display_name": "Python 3",
   "language": "python",
   "name": "python3"
  },
  "language_info": {
   "codemirror_mode": {
    "name": "ipython",
    "version": 3
   },
   "file_extension": ".py",
   "mimetype": "text/x-python",
   "name": "python",
   "nbconvert_exporter": "python",
   "pygments_lexer": "ipython3",
   "version": "3.5.1"
  }
 },
 "nbformat": 4,
 "nbformat_minor": 0
}
