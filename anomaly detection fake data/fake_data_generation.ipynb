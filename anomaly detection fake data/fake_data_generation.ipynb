{
 "cells": [
  {
   "cell_type": "code",
   "execution_count": 14,
   "metadata": {
    "collapsed": true
   },
   "outputs": [],
   "source": [
    "'''generating a fake meaningless dataset to test the function while the real data is pulled'''\n",
    "import numpy as np\n",
    "import pandas as pd"
   ]
  },
  {
   "cell_type": "code",
   "execution_count": 15,
   "metadata": {
    "collapsed": false
   },
   "outputs": [],
   "source": [
    "#sample paarmeters\n",
    "n_inliers = 100\n",
    "n_outliers = 20\n",
    "outliers_fraction=0.2\n",
    "\n",
    "# Data generation\n",
    "X1 = 2 * np.random.randn( n_inliers, 3)-6\n",
    "X2 = 3 * np.random.randn(n_inliers, 3) +6\n",
    "X = np.r_[X1, X2]\n",
    "# print(X.shape)\n",
    "# Add outliers\n",
    "X = np.r_[X, np.random.uniform(low=-6, high=6, size=(n_outliers, 3))]\n",
    "\n",
    "# Add longitude and latitude and time\n",
    "longitude=2 * np.random.randn( 2*n_inliers+n_outliers, 1)+20\n",
    "latitude = 2 * np.random.randn( 2*n_inliers+n_outliers, 1)+50\n",
    "time= np.random.randn(2*n_inliers+n_outliers, 1) + 1000\n",
    "\n",
    "X_all =np.c_[longitude,latitude,time,X]\n",
    "\n",
    "# print(X_all.shape)\n"
   ]
  },
  {
   "cell_type": "code",
   "execution_count": 24,
   "metadata": {
    "collapsed": false
   },
   "outputs": [],
   "source": [
    "#save fak data to the scv file\n",
    "fnamesave = 'fakedata.csv'\n",
    "df=pd.DataFrame(X_all)\n",
    "\n",
    "df.columns=['latitude', 'longitude', 'datetime', 'X1', 'X2', 'X3']\n",
    "df.to_csv(fnamesave,index=False)"
   ]
  }
 ],
 "metadata": {
  "kernelspec": {
   "display_name": "Python 3",
   "language": "python",
   "name": "python3"
  },
  "language_info": {
   "codemirror_mode": {
    "name": "ipython",
    "version": 3
   },
   "file_extension": ".py",
   "mimetype": "text/x-python",
   "name": "python",
   "nbconvert_exporter": "python",
   "pygments_lexer": "ipython3",
   "version": "3.5.1"
  }
 },
 "nbformat": 4,
 "nbformat_minor": 0
}
