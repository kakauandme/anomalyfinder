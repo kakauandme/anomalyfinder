{
 "cells": [
  {
   "cell_type": "code",
   "execution_count": 1,
   "metadata": {
    "collapsed": false
   },
   "outputs": [],
   "source": [
    "%matplotlib inline\n",
    "import numpy as np\n",
    "\n",
    "import matplotlib.pyplot as plt\n",
    "import pandas as pd\n",
    "\n",
    "from scipy import stats\n",
    "\n",
    "from sklearn import svm\n",
    "from sklearn.decomposition import PCA"
   ]
  },
  {
   "cell_type": "code",
   "execution_count": 2,
   "metadata": {
    "collapsed": false
   },
   "outputs": [
    {
     "data": {
      "text/html": [
       "<div>\n",
       "<table border=\"1\" class=\"dataframe\">\n",
       "  <thead>\n",
       "    <tr style=\"text-align: right;\">\n",
       "      <th></th>\n",
       "      <th>latitude</th>\n",
       "      <th>longitude</th>\n",
       "      <th>datetime</th>\n",
       "      <th>X1</th>\n",
       "      <th>X2</th>\n",
       "      <th>X3</th>\n",
       "    </tr>\n",
       "  </thead>\n",
       "  <tbody>\n",
       "    <tr>\n",
       "      <th>0</th>\n",
       "      <td>22.614679</td>\n",
       "      <td>50.822511</td>\n",
       "      <td>999.151107</td>\n",
       "      <td>-7.848408</td>\n",
       "      <td>-5.247848</td>\n",
       "      <td>-4.566957</td>\n",
       "    </tr>\n",
       "    <tr>\n",
       "      <th>1</th>\n",
       "      <td>21.377451</td>\n",
       "      <td>50.777432</td>\n",
       "      <td>1001.883175</td>\n",
       "      <td>-5.016138</td>\n",
       "      <td>-6.087626</td>\n",
       "      <td>-5.851425</td>\n",
       "    </tr>\n",
       "    <tr>\n",
       "      <th>2</th>\n",
       "      <td>17.454317</td>\n",
       "      <td>48.014107</td>\n",
       "      <td>999.048326</td>\n",
       "      <td>-3.613127</td>\n",
       "      <td>-5.786696</td>\n",
       "      <td>-7.039579</td>\n",
       "    </tr>\n",
       "    <tr>\n",
       "      <th>3</th>\n",
       "      <td>19.155321</td>\n",
       "      <td>49.371672</td>\n",
       "      <td>999.770497</td>\n",
       "      <td>-8.338071</td>\n",
       "      <td>-1.750587</td>\n",
       "      <td>-6.784620</td>\n",
       "    </tr>\n",
       "    <tr>\n",
       "      <th>4</th>\n",
       "      <td>20.846455</td>\n",
       "      <td>49.501044</td>\n",
       "      <td>1001.081442</td>\n",
       "      <td>-7.799518</td>\n",
       "      <td>-8.253047</td>\n",
       "      <td>-6.600085</td>\n",
       "    </tr>\n",
       "  </tbody>\n",
       "</table>\n",
       "</div>"
      ],
      "text/plain": [
       "    latitude  longitude     datetime        X1        X2        X3\n",
       "0  22.614679  50.822511   999.151107 -7.848408 -5.247848 -4.566957\n",
       "1  21.377451  50.777432  1001.883175 -5.016138 -6.087626 -5.851425\n",
       "2  17.454317  48.014107   999.048326 -3.613127 -5.786696 -7.039579\n",
       "3  19.155321  49.371672   999.770497 -8.338071 -1.750587 -6.784620\n",
       "4  20.846455  49.501044  1001.081442 -7.799518 -8.253047 -6.600085"
      ]
     },
     "execution_count": 2,
     "metadata": {},
     "output_type": "execute_result"
    }
   ],
   "source": [
    "#read the consolidated data file\n",
    "'''for the purpose of this demo we use a fake datafile generated in fake_data_generation'''\n",
    "fname = 'fakedata'\n",
    "data = pd.read_csv(fname+\".csv\")\n",
    "# print(data.columns)\n",
    "data.head()"
   ]
  },
  {
   "cell_type": "code",
   "execution_count": 3,
   "metadata": {
    "collapsed": false
   },
   "outputs": [
    {
     "name": "stdout",
     "output_type": "stream",
     "text": [
      "[[-7.84840818 -5.24784814 -4.56695656]\n",
      " [-5.01613788 -6.08762596 -5.85142493]\n",
      " [-3.61312733 -5.78669571 -7.03957867]\n",
      " [-8.33807101 -1.7505871  -6.7846199 ]\n",
      " [-7.79951808 -8.25304673 -6.60008467]\n",
      " [-4.74036455 -5.87572466 -7.24718516]]\n"
     ]
    }
   ],
   "source": [
    "# get the variables - all columns without latitude, longitude and time\n",
    "X_raw=data.as_matrix()\n",
    "X_raw= X_raw[:,3:]\n",
    "\n",
    "#look at it\n",
    "print(X_raw[:6,:])\n",
    "\n",
    "###### pca - dimention reduction to two dimentian \n",
    "pca = PCA(n_components=2)\n",
    "X=pca.fit_transform(X_raw)\n"
   ]
  },
  {
   "cell_type": "code",
   "execution_count": 4,
   "metadata": {
    "collapsed": false
   },
   "outputs": [
    {
     "name": "stdout",
     "output_type": "stream",
     "text": [
      "OneClassSVM(cache_size=200, coef0=0.0, degree=3, gamma=0.1, kernel='rbf',\n",
      "      max_iter=-1, nu=0.14500000000000002, random_state=None,\n",
      "      shrinking=True, tol=0.001, verbose=False)\n"
     ]
    }
   ],
   "source": [
    "# we will mark the oddest 10% of entries as anomalies\n",
    "outliers_fraction=0.1\n",
    "model=svm.OneClassSVM(nu=0.95 * outliers_fraction + 0.05,  kernel=\"rbf\", gamma=0.1).fit(X)\n",
    "print(model)\n"
   ]
  },
  {
   "cell_type": "code",
   "execution_count": 5,
   "metadata": {
    "collapsed": false
   },
   "outputs": [],
   "source": [
    "#predicted score of a point NOT being an outlier\n",
    "y_pred = model.decision_function(X).ravel()\n"
   ]
  },
  {
   "cell_type": "code",
   "execution_count": 6,
   "metadata": {
    "collapsed": false
   },
   "outputs": [
    {
     "name": "stdout",
     "output_type": "stream",
     "text": [
      "-0.00028516632592\n"
     ]
    }
   ],
   "source": [
    "##potentially we can let user to change the treshhold\n",
    "threshold = stats.scoreatpercentile(y_pred,100 * outliers_fraction)\n",
    "print(threshold)"
   ]
  },
  {
   "cell_type": "code",
   "execution_count": 7,
   "metadata": {
    "collapsed": false,
    "scrolled": true
   },
   "outputs": [],
   "source": [
    "y_pred = y_pred <= threshold\n",
    "# print(y_pred)"
   ]
  },
  {
   "cell_type": "code",
   "execution_count": 8,
   "metadata": {
    "collapsed": false
   },
   "outputs": [
    {
     "name": "stdout",
     "output_type": "stream",
     "text": [
      "[[-10.35867238  -2.91776189   0.        ]\n",
      " [-10.04968178   0.1969009    0.        ]\n",
      " [ -9.82784682   1.9799328    0.        ]\n",
      " [-10.00468249  -2.41776959   0.        ]\n",
      " [-13.2740503   -1.27997565   0.        ]]\n"
     ]
    }
   ],
   "source": [
    "#save original data and a flag=1 if the point is an outlier\n",
    "X_new = np.c_[X, y_pred]\n",
    "# print(min(X[:,1]))\n",
    "print(X_new[:5, :])"
   ]
  },
  {
   "cell_type": "code",
   "execution_count": 9,
   "metadata": {
    "collapsed": false
   },
   "outputs": [
    {
     "data": {
      "image/png": "[encoded data removed]",
      "text/plain": [
       "<matplotlib.figure.Figure at 0x113022fd0>"
      ]
     },
     "metadata": {},
     "output_type": "display_data"
    }
   ],
   "source": [
    "#plotting the stuff\n",
    "marg=5\n",
    "xx, yy = np.meshgrid(np.linspace(min(X[:,0])-marg, max(X[:,0])+marg, 500), np.linspace(min(X[:,1])-marg, max(X[:,1])+marg, 500))\n",
    "Z = model.decision_function(np.c_[xx.ravel(), yy.ravel()])\n",
    "Z = Z.reshape(xx.shape)\n",
    "\n",
    "plt.figure()\n",
    "\n",
    "#contour lines for outlier detection\n",
    "plt.contourf(xx, yy, Z, levels=np.linspace(Z.min(), threshold, 7),cmap=plt.cm.Blues_r)\n",
    "plt.contourf(xx, yy, Z, levels=[threshold, Z.max()],colors='orange')\n",
    "\n",
    "#scatterplot of the data\n",
    "\n",
    "plt.scatter(X_new[X_new[:, 2] == 1][:, 0], X_new[X_new[:, 2] == 1][:, 1], color='red', label='inliers')\n",
    "plt.scatter(X_new[X_new[:, 2] == 0][:, 0], X_new[X_new[:, 2] == 0][:, 1], color='black', label='inliers')\n",
    "plt.axis('off')\n",
    "plt.show()"
   ]
  },
  {
   "cell_type": "code",
   "execution_count": 10,
   "metadata": {
    "collapsed": false,
    "scrolled": false
   },
   "outputs": [
    {
     "data": {
      "text/html": [
       "<div>\n",
       "<table border=\"1\" class=\"dataframe\">\n",
       "  <thead>\n",
       "    <tr style=\"text-align: right;\">\n",
       "      <th></th>\n",
       "      <th>latitude</th>\n",
       "      <th>longitude</th>\n",
       "      <th>datetime</th>\n",
       "      <th>X1</th>\n",
       "      <th>X2</th>\n",
       "      <th>X3</th>\n",
       "      <th>outlier</th>\n",
       "    </tr>\n",
       "  </thead>\n",
       "  <tbody>\n",
       "    <tr>\n",
       "      <th>0</th>\n",
       "      <td>22.614679</td>\n",
       "      <td>50.822511</td>\n",
       "      <td>999.151107</td>\n",
       "      <td>-7.848408</td>\n",
       "      <td>-5.247848</td>\n",
       "      <td>-4.566957</td>\n",
       "      <td>0</td>\n",
       "    </tr>\n",
       "    <tr>\n",
       "      <th>1</th>\n",
       "      <td>21.377451</td>\n",
       "      <td>50.777432</td>\n",
       "      <td>1001.883175</td>\n",
       "      <td>-5.016138</td>\n",
       "      <td>-6.087626</td>\n",
       "      <td>-5.851425</td>\n",
       "      <td>0</td>\n",
       "    </tr>\n",
       "    <tr>\n",
       "      <th>2</th>\n",
       "      <td>17.454317</td>\n",
       "      <td>48.014107</td>\n",
       "      <td>999.048326</td>\n",
       "      <td>-3.613127</td>\n",
       "      <td>-5.786696</td>\n",
       "      <td>-7.039579</td>\n",
       "      <td>0</td>\n",
       "    </tr>\n",
       "    <tr>\n",
       "      <th>3</th>\n",
       "      <td>19.155321</td>\n",
       "      <td>49.371672</td>\n",
       "      <td>999.770497</td>\n",
       "      <td>-8.338071</td>\n",
       "      <td>-1.750587</td>\n",
       "      <td>-6.784620</td>\n",
       "      <td>0</td>\n",
       "    </tr>\n",
       "    <tr>\n",
       "      <th>4</th>\n",
       "      <td>20.846455</td>\n",
       "      <td>49.501044</td>\n",
       "      <td>1001.081442</td>\n",
       "      <td>-7.799518</td>\n",
       "      <td>-8.253047</td>\n",
       "      <td>-6.600085</td>\n",
       "      <td>0</td>\n",
       "    </tr>\n",
       "  </tbody>\n",
       "</table>\n",
       "</div>"
      ],
      "text/plain": [
       "    latitude  longitude     datetime        X1        X2        X3  outlier\n",
       "0  22.614679  50.822511   999.151107 -7.848408 -5.247848 -4.566957        0\n",
       "1  21.377451  50.777432  1001.883175 -5.016138 -6.087626 -5.851425        0\n",
       "2  17.454317  48.014107   999.048326 -3.613127 -5.786696 -7.039579        0\n",
       "3  19.155321  49.371672   999.770497 -8.338071 -1.750587 -6.784620        0\n",
       "4  20.846455  49.501044  1001.081442 -7.799518 -8.253047 -6.600085        0"
      ]
     },
     "execution_count": 10,
     "metadata": {},
     "output_type": "execute_result"
    }
   ],
   "source": [
    "#add a column with outlier flag ot the data\n",
    "data['outlier']=X_new[:, 2].astype(int)\n",
    "data.head()"
   ]
  },
  {
   "cell_type": "code",
   "execution_count": 11,
   "metadata": {
    "collapsed": false
   },
   "outputs": [],
   "source": [
    "#convert output to json and save it\n",
    "output=data.to_json(orient=\"records\")\n",
    "\n",
    "f = open('website_data.js', 'w')\n",
    "f.write('var outlier = ' + output + \";\")\n",
    "f.close()\n",
    "\n"
   ]
  }
 ],
 "metadata": {
  "kernelspec": {
   "display_name": "Python 3",
   "language": "python",
   "name": "python3"
  },
  "language_info": {
   "codemirror_mode": {
    "name": "ipython",
    "version": 3
   },
   "file_extension": ".py",
   "mimetype": "text/x-python",
   "name": "python",
   "nbconvert_exporter": "python",
   "pygments_lexer": "ipython3",
   "version": "3.5.1"
  }
 },
 "nbformat": 4,
 "nbformat_minor": 0
}
