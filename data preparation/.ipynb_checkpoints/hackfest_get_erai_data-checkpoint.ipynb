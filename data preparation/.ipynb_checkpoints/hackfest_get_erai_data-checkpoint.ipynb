{
 "cells": [
  {
   "cell_type": "code",
   "execution_count": 1,
   "metadata": {
    "collapsed": false
   },
   "outputs": [
    {
     "name": "stdout",
     "output_type": "stream",
     "text": [
      "Using matplotlib backend: MacOSX\n"
     ]
    },
    {
     "name": "stderr",
     "output_type": "stream",
     "text": [
      "ERROR: File `'basics.py'` not found.\n"
     ]
    },
    {
     "ename": "ImportError",
     "evalue": "No module named 'pysolar'",
     "output_type": "error",
     "traceback": [
      "\u001b[0;31m---------------------------------------------------------------------------\u001b[0m",
      "\u001b[0;31mImportError\u001b[0m                               Traceback (most recent call last)",
      "\u001b[0;32m<ipython-input-1-49f4b5b495d8>\u001b[0m in \u001b[0;36m<module>\u001b[0;34m()\u001b[0m\n\u001b[1;32m      2\u001b[0m \u001b[0mget_ipython\u001b[0m\u001b[0;34m(\u001b[0m\u001b[0;34m)\u001b[0m\u001b[0;34m.\u001b[0m\u001b[0mmagic\u001b[0m\u001b[0;34m(\u001b[0m\u001b[0;34m'matplotlib'\u001b[0m\u001b[0;34m)\u001b[0m\u001b[0;34m\u001b[0m\u001b[0m\n\u001b[1;32m      3\u001b[0m \u001b[0;32mimport\u001b[0m \u001b[0mpytz\u001b[0m\u001b[0;34m\u001b[0m\u001b[0m\n\u001b[0;32m----> 4\u001b[0;31m \u001b[0;32mfrom\u001b[0m \u001b[0mpysolar\u001b[0m \u001b[0;32mimport\u001b[0m \u001b[0mGetAltitude\u001b[0m\u001b[0;34m\u001b[0m\u001b[0m\n\u001b[0m\u001b[1;32m      5\u001b[0m \u001b[0;32mfrom\u001b[0m \u001b[0mscipy\u001b[0m\u001b[0;34m.\u001b[0m\u001b[0minterpolate\u001b[0m \u001b[0;32mimport\u001b[0m \u001b[0mInterpolatedUnivariateSpline\u001b[0m\u001b[0;34m\u001b[0m\u001b[0m\n",
      "\u001b[0;31mImportError\u001b[0m: No module named 'pysolar'"
     ]
    }
   ],
   "source": [
    "%run basics\n",
    "%matplotlib\n",
    "import pytz\n",
    "from pysolar import GetAltitude\n",
    "from scipy.interpolate import InterpolatedUnivariateSpline"
   ]
  },
  {
   "cell_type": "code",
   "execution_count": 2,
   "metadata": {
    "collapsed": true
   },
   "outputs": [],
   "source": [
    "def get_Fsd(erai_file,times_3hr,times_tts,fire,erai):\n",
    "    \"\"\"\n",
    "    Purpose:\n",
    "     Extracts a time series of incoming solar radiation for a given location (specified\n",
    "     as latitude and longitude) from an ERA Interim re-analysis file.\n",
    "    Usage:\n",
    "     Fsd = get_FSD(erai_file,times_3hr,times_tts,fire,erai)\n",
    "     where\n",
    "      erai_file is the netCDF file retrieved from the ERAI site\n",
    "      times_3hr is a dictionary of times at the ERAI time step (3 hourly)\n",
    "      times_tts is a dictionary of times at the tower time step (30 or 60 minutes)\n",
    "      fire is a dictionary of information about thye fire instance\n",
    "      erai is a dictionary of information about the ERAI data\n",
    "    Author: PRI\n",
    "    Date: March 2015\n",
    "    \"\"\"\n",
    "    # local pointers\n",
    "    elat = erai[\"latitude\"]\n",
    "    elon = erai[\"longitude\"]\n",
    "    dt_erai_utc_cor = times_3hr[\"dt_erai_utc_cor\"]\n",
    "    erai_time_3hr = times_3hr[\"erai_time_3hr\"]\n",
    "    dt_erai_utc_tts = times_tts[\"dt_erai_utc_tts\"]\n",
    "    erai_time_tts = times_tts[\"erai_time_tts\"]\n",
    "    flati = fire[\"lat_index\"]\n",
    "    floni = fire[\"lon_index\"]\n",
    "    # get the solar altitude, we will use this later to interpolate the ERA Interim solar\n",
    "    # data from the ERA-I 3 hour time step to the tower time step.\n",
    "    # NOTE: alt_solar is in degrees\n",
    "    alt_solar_3hr = numpy.array([GetAltitude(elat,elon,dt) for dt in dt_erai_utc_cor])\n",
    "    # get the solar altitude at the tower time step\n",
    "    alt_solar_tts = numpy.array([GetAltitude(elat,elon,dt) for dt in dt_erai_utc_tts])\n",
    "    idx = numpy.where(alt_solar_tts<=0)[0]\n",
    "    alt_solar_tts[idx] = float(0)\n",
    "    # Interpolate the 3 hourly accumulated downwelling shortwave to the tower time step\n",
    "    # NOTE: ERA-I variables are dimensioned [time,latitude,longitude]\n",
    "    Fsd_3d = erai_file.variables[\"ssrd\"][:,:,:]\n",
    "    Fsd_accum = Fsd_3d[:,flati,floni]\n",
    "    # Downwelling shortwave in ERA-I is a cummulative value that is reset to 0 at 0300 and 1500 UTC.\n",
    "    # Here we convert the cummulative values to 3 hourly values.\n",
    "    Fsd_erai_3hr = numpy.ediff1d(Fsd_accum,to_begin=0)\n",
    "    idx = numpy.where((times_3hr[\"hour_utc\"]==3)|\n",
    "                      (times_3hr[\"hour_utc\"]==15))[0]\n",
    "    Fsd_erai_3hr[idx] = Fsd_accum[idx]\n",
    "    Fsd_erai_3hr = Fsd_erai_3hr/float(10800)\n",
    "    # normalise the ERA-I downwelling shortwave by the solar altitude\n",
    "    # clamp solar altitude to a minimum value to avoid numerical problems\n",
    "    # when alt_solar is close to 0erai_file,times_3hr,times_tts,fire_info\n",
    "    alt_solar_limit = float(5)*numpy.ones(len(alt_solar_3hr))\n",
    "    sa = numpy.where(alt_solar_3hr<=float(5),alt_solar_limit,alt_solar_3hr)\n",
    "    coef_3hr = Fsd_erai_3hr/numpy.sin(numpy.deg2rad(sa))\n",
    "    # get the spline interpolation function\n",
    "    s = InterpolatedUnivariateSpline(erai_time_3hr, coef_3hr, k=1)\n",
    "    # get the coefficient at the tower time step\n",
    "    coef_tts = s(erai_time_tts)\n",
    "    # get the downwelling solar radiation at the tower time step for this latitude and longitude\n",
    "    Fsd = {}\n",
    "    Fsd[\"data\"] = coef_tts*numpy.sin(numpy.deg2rad(alt_solar_tts))\n",
    "    Fsd[\"attr\"] = qcutils.MakeAttributeDictionary(long_name=\"Downwelling short wave radiation\",units=\"W/m2\")\n",
    "    return Fsd"
   ]
  },
  {
   "cell_type": "code",
   "execution_count": 3,
   "metadata": {
    "collapsed": true
   },
   "outputs": [],
   "source": [
    "def get_Ta(erai_file,times_3hr,times_tts,fire):\n",
    "    # local pointers\n",
    "    flati = fire[\"lat_index\"]\n",
    "    floni = fire[\"lon_index\"]\n",
    "    erai_time_3hr = times_3hr[\"erai_time_3hr\"]\n",
    "    erai_time_tts = times_tts[\"erai_time_tts\"]\n",
    "    # Interpolate the 3 hourly air temperature to the tower time step\n",
    "    # NOTE: ERA-I variables are dimensioned [time,latitude,longitude]\n",
    "    Ta_3d = erai_file.variables[\"t2m\"][:,:,:]\n",
    "    Ta_erai_3hr = Ta_3d[:,flati,floni] - 273.15\n",
    "    # get the spline interpolation function\n",
    "    s = InterpolatedUnivariateSpline(erai_time_3hr, Ta_erai_3hr, k=2)\n",
    "    # get the air temperature at the tower time step\n",
    "    Ta = {}\n",
    "    Ta[\"data\"] = s(erai_time_tts)\n",
    "    Ta[\"attr\"] = qcutils.MakeAttributeDictionary(long_name=\"Air temperature\",units=\"C\")\n",
    "    return Ta"
   ]
  },
  {
   "cell_type": "code",
   "execution_count": 4,
   "metadata": {
    "collapsed": true
   },
   "outputs": [],
   "source": [
    "def get_RH(erai_file,times_3hr,times_tts,fire):\n",
    "    # local pointers\n",
    "    flati = fire[\"lat_index\"]\n",
    "    floni = fire[\"lon_index\"]\n",
    "    erai_time_3hr = times_3hr[\"erai_time_3hr\"]\n",
    "    erai_time_tts = times_tts[\"erai_time_tts\"]\n",
    "    # Interpolate the 3 hourly air temperature to the tower time step\n",
    "    # NOTE: ERA-I variables are dimensioned [time,latitude,longitude]\n",
    "    Ta_3d = erai_file.variables[\"t2m\"][:,:,:]\n",
    "    Ta_erai_3hr = Ta_3d[:,flati,floni] - 273.15\n",
    "    # get the spline interpolation function\n",
    "    s = InterpolatedUnivariateSpline(erai_time_3hr, Ta_erai_3hr, k=2)\n",
    "    Ta_erai_tts = s(erai_time_tts)\n",
    "    # Interpolate the 3 hourly dew point temperature to the tower time step\n",
    "    Td_3d = erai_file.variables[\"d2m\"][:,:,:]\n",
    "    Td_erai_3hr = Td_3d[:,flati,floni] - 273.15\n",
    "    # get the spline interpolation function\n",
    "    s = InterpolatedUnivariateSpline(erai_time_3hr, Td_erai_3hr, k=2)\n",
    "    # get the dew point temperature at the towespeedr time step\n",
    "    Td_erai_tts = s(erai_time_tts)\n",
    "    # get the relative humidity\n",
    "    es_erai_tts = mf.es(Ta_erai_tts)\n",
    "    e_erai_tts = mf.es(Td_erai_tts)\n",
    "    RH = {}\n",
    "    RH[\"data\"] = float(100)*e_erai_tts/es_erai_tts\n",
    "    RH[\"attr\"] = qcutils.MakeAttributeDictionary(long_name=\"Relative humidity\",units=\"percent\")\n",
    "    return RH"
   ]
  },
  {
   "cell_type": "code",
   "execution_count": 5,
   "metadata": {
    "collapsed": true
   },
   "outputs": [],
   "source": [
    "def get_Ws_and_Wd(erai_file,times_3hr,times_tts,fire):\n",
    "    # local pointers\n",
    "    flati = fire[\"lat_index\"]\n",
    "    floni = fire[\"lon_index\"]\n",
    "    erai_time_3hr = times_3hr[\"erai_time_3hr\"]\n",
    "    erai_time_tts = times_tts[\"erai_time_tts\"]\n",
    "    # Interpolate the 3 hourly U and V components to the tower time step\n",
    "    # NOTE: ERA-I variables are dimensioned [time,latitude,longitude]\n",
    "    # U first ...\n",
    "    U_3d = erai_file.variables[\"u10\"][:,:,:]\n",
    "    U_erai_3hr = U_3d[:,flati,floni]\n",
    "    # get the spline interpolation function\n",
    "    s = InterpolatedUnivariateSpline(erai_time_3hr, U_erai_3hr, k=2)\n",
    "    # get the U component at the tower time step\n",
    "    U_erai_tts = s(erai_time_tts)\n",
    "    # ... then V\n",
    "    V_3d = erai_file.variables[\"v10\"][:,:,:]\n",
    "    V_erai_3hr = V_3d[:,flati,floni]\n",
    "    # get the spline interpolation function\n",
    "    s = InterpolatedUnivariateSpline(erai_time_3hr, V_erai_3hr, k=2)\n",
    "    # get the soil moisture at the tower time step\n",
    "    V_erai_tts = s(erai_time_tts)\n",
    "    # now get the wind speed and direction\n",
    "    Ws = {}\n",
    "    Ws[\"data\"] = numpy.sqrt(U_erai_tts*U_erai_tts + V_erai_tts*V_erai_tts)\n",
    "    Ws[\"attr\"] = qcutils.MakeAttributeDictionary(long_name=\"Wind speed\",units=\"m/s\")\n",
    "    Wd = {}\n",
    "    Wd[\"data\"] = float(270) - numpy.arctan2(V_erai_tts,U_erai_tts)*float(180)/numpy.pi\n",
    "    idx = numpy.where(Wd[\"data\"]>360)[0]\n",
    "    if len(idx)>0: Wd[\"data\"][idx] = Wd[\"data\"][idx] - float(360)\n",
    "    Wd[\"attr\"] = qcutils.MakeAttributeDictionary(long_name=\"Wind direction\",units=\"deg\")\n",
    "    return Ws,Wd"
   ]
  },
  {
   "cell_type": "code",
   "execution_count": 6,
   "metadata": {
    "collapsed": true
   },
   "outputs": [],
   "source": [
    "def get_Precip(erai_file,times_3hr,times_tts,fire):\n",
    "    # local pointers\n",
    "    flati = fire[\"lat_index\"]\n",
    "    floni = fire[\"lon_index\"]\n",
    "    dt_erai_utc_cor = times_3hr[\"dt_erai_utc_cor\"]\n",
    "    erai_time_3hr = times_3hr[\"erai_time_3hr\"]\n",
    "    dt_erai_utc_tts = times_tts[\"dt_erai_utc_tts\"]\n",
    "    erai_time_tts = times_tts[\"erai_time_tts\"]\n",
    "    hour_utc = times_3hr[\"hour_utc\"]\n",
    "    # Spread the 3 hourly accumulated precipitation to the tower time step\n",
    "    # NOTE: ERA-I variables are dimensioned [time,latitude,longitude]\n",
    "    Precip_3d = erai_file.variables[\"tp\"][:,:,:]\n",
    "    Precip_accum = Precip_3d[:,flati,floni]\n",
    "    Precip_erai_3hr = numpy.ediff1d(Precip_accum,to_begin=0)\n",
    "    idx = numpy.where((hour_utc==3)|(hour_utc==15))[0]\n",
    "    Precip_erai_3hr[idx] = Precip_accum[idx]\n",
    "    Precip_erai_3hr = Precip_erai_3hr*float(1000)\n",
    "    Precip = {}\n",
    "    Precip[\"data\"] = numpy.zeros(len(dt_erai_utc_tts))\n",
    "    idx = qcutils.FindIndicesOfBInA(dt_erai_utc_cor,dt_erai_utc_tts)\n",
    "    Precip[\"data\"][idx] = Precip_erai_3hr\n",
    "    Precip[\"attr\"] = qcutils.MakeAttributeDictionary(long_name=\"Precipitation\",units=\"mm\")\n",
    "    return Precip"
   ]
  },
  {
   "cell_type": "code",
   "execution_count": 7,
   "metadata": {
    "collapsed": true
   },
   "outputs": [],
   "source": [
    "def nc_write_series(out_file,label,data):\n",
    "    ncVar = out_file.createVariable(label,\"d\",(\"time\",))\n",
    "    ncVar[:] = data[\"data\"]\n",
    "    for item in data[\"attr\"]:\n",
    "        setattr(ncVar,item,data[\"attr\"][item])"
   ]
  },
  {
   "cell_type": "code",
   "execution_count": 8,
   "metadata": {
    "collapsed": true
   },
   "outputs": [],
   "source": [
    "# get the filename\n",
    "file_path = \"/home/peter/hackfest/\"\n",
    "year = 2014\n",
    "csv_filename = file_path+\"hotspot_\"+str(year)+\"_short.csv\"\n",
    "erai_name = file_path+\"ERAI_\"+str(year)+\".nc\"\n",
    "# sniff the file to see if we can find the dialect\n",
    "csv_file = open(csv_filename,'rb')\n",
    "dialect = csv.Sniffer().sniff(csv_file.readline(), [' ',',','\\t'])\n",
    "# rewind file\n",
    "csv_file.seek(0)\n",
    "csv_reader = csv.reader(csv_file,dialect)\n",
    "# get the header line\n",
    "header = csv_reader.next()\n",
    "# close the file\n",
    "csv_file.close()"
   ]
  },
  {
   "cell_type": "code",
   "execution_count": 9,
   "metadata": {
    "collapsed": true
   },
   "outputs": [],
   "source": [
    "# get a list of columns to be read\n",
    "csv_list = [\"load_dt\",\"latitude\",\"longitude\"]\n",
    "col_list = [header.index(item) for item in csv_list]\n",
    "# read the csv file using numpy's genfromtxt\n",
    "skip = 1\n",
    "# define the missing values and the value with which to fill them\n",
    "missing_values = {}\n",
    "filling_values = {}\n",
    "for item in col_list:\n",
    "    missing_values[item] = [\"NA\",\"N/A\",\"NAN\",\"#NAME?\",\"#VALUE!\",\"#DIV/0!\",\"#REF!\"]\n",
    "    filling_values[item] = c.missing_value\n",
    "# read the CSV file\n",
    "data = numpy.genfromtxt(csv_filename,delimiter=dialect.delimiter,skip_header=skip,\n",
    "                        names=header,usecols=col_list,missing_values=missing_values,\n",
    "                        filling_values=filling_values,dtype=None)"
   ]
  },
  {
   "cell_type": "code",
   "execution_count": 10,
   "metadata": {
    "collapsed": false
   },
   "outputs": [],
   "source": [
    "erai_timestep = 180\n",
    "# dictionary for ERAI times at 3 hour time step\n",
    "times_3hr = {}\n",
    "# open the ERAI netCDF file\n",
    "erai_file = netCDF4.Dataset(erai_name)\n",
    "# get the latitude and longitude data\n",
    "latitude = erai_file.variables[\"latitude\"][:]\n",
    "longitude = erai_file.variables[\"longitude\"][:]\n",
    "# get the latitude and longitude resolutions\n",
    "lat_resolution = abs(latitude[-1]-latitude[0])/(len(latitude)-1)\n",
    "lon_resolution = abs(longitude[-1]-longitude[0])/(len(longitude)-1)\n",
    "# get the time and convert to Python datetime object\n",
    "erai_time = erai_file.variables[\"time\"][:]\n",
    "time_units = getattr(erai_file.variables[\"time\"],\"units\")\n",
    "dt_erai = netCDF4.num2date(erai_time,time_units)\n",
    "times_3hr[\"hour_utc\"] = numpy.array([dt.hour for dt in dt_erai])\n",
    "# get the datetime in the middle of the accumulation period\n",
    "erai_offset = datetime.timedelta(minutes=float(erai_timestep)/2)\n",
    "dt_erai_cor = [x - erai_offset for x in dt_erai]\n",
    "# get a series of time, corrected for the offset\n",
    "# NOTE: netCDF4.date2num doesn't handle timezone-aware datetimes\n",
    "times_3hr[\"erai_time_3hr\"] = netCDF4.date2num(dt_erai_cor,time_units)\n",
    "# make utc_dt timezone aware so we can generate local times later\n",
    "times_3hr[\"dt_erai_utc_cor\"] = [x.replace(tzinfo=pytz.utc) for x in dt_erai_cor]"
   ]
  },
  {
   "cell_type": "code",
   "execution_count": 11,
   "metadata": {
    "collapsed": false
   },
   "outputs": [
    {
     "name": "stdout",
     "output_type": "stream",
     "text": [
      "For fire no.  1\n",
      " Fire coordinates:  -16.1277 144.1869\n",
      " ERAI coordinates:  -16.5 144.0\n",
      "  Got data from  2013-12-31 02:00:00+00:00  UTC to  2015-01-01 22:00:00+00:00  UTC\n",
      "For fire no.  2\n",
      " Fire coordinates:  -23.8189 147.2426\n",
      " ERAI coordinates:  -24.0 147.0\n",
      "  Got data from  2013-12-31 02:00:00+00:00  UTC to  2015-01-01 22:00:00+00:00  UTC\n",
      "For fire no.  3\n",
      " Fire coordinates:  -23.3605 142.2231\n",
      " ERAI coordinates:  -23.25 142.5\n",
      "  Got data from  2013-12-31 02:00:00+00:00  UTC to  2015-01-01 22:00:00+00:00  UTC\n",
      "For fire no.  4\n",
      " Fire coordinates:  -23.8572 146.3839\n",
      " ERAI coordinates:  -24.0 146.25\n",
      "  Got data from  2013-12-31 02:00:00+00:00  UTC to  2015-01-01 22:00:00+00:00  UTC\n",
      "For fire no.  5\n",
      " Fire coordinates:  -24.4525 126.3344\n",
      " ERAI coordinates:  -24.75 126.0\n",
      "  Got data from  2013-12-31 02:00:00+00:00  UTC to  2015-01-01 22:00:00+00:00  UTC\n",
      "For fire no.  6\n",
      " Fire coordinates:  -27.6476 141.5962\n",
      " ERAI coordinates:  -27.75 141.75\n",
      "  Got data from  2013-12-31 02:00:00+00:00  UTC to  2015-01-01 22:00:00+00:00  UTC\n",
      "For fire no.  7\n",
      " Fire coordinates:  -26.5897 131.0606\n",
      " ERAI coordinates:  -26.25 131.25\n",
      "  Got data from  2013-12-31 02:00:00+00:00  UTC to  2015-01-01 22:00:00+00:00  UTC\n",
      "For fire no.  8\n",
      " Fire coordinates:  -37.9148 144.524\n",
      " ERAI coordinates:  -38.25 144.75\n",
      "  Got data from  2013-12-31 02:00:00+00:00  UTC to  2015-01-01 22:00:00+00:00  UTC\n",
      "For fire no.  9\n",
      " Fire coordinates:  -21.3118 125.0042\n",
      " ERAI coordinates:  -21.0 125.25\n",
      "  Got data from  2013-12-31 02:00:00+00:00  UTC to  2015-01-01 22:00:00+00:00  UTC\n",
      "For fire no.  10\n",
      " Fire coordinates:  -25.4698 127.5798\n",
      " ERAI coordinates:  -25.5 127.5\n",
      "  Got data from  2013-12-31 02:00:00+00:00  UTC to  2015-01-01 22:00:00+00:00  UTC\n",
      "For fire no.  11\n",
      " Fire coordinates:  -27.7875 128.8424\n",
      " ERAI coordinates:  -27.75 129.0\n",
      "  Got data from  2013-12-31 02:00:00+00:00  UTC to  2015-01-01 22:00:00+00:00  UTC\n",
      "For fire no.  12\n",
      " Fire coordinates:  -11.551 132.7939\n",
      " ERAI coordinates:  -11.25 132.75\n",
      "  Got data from  2013-12-31 02:00:00+00:00  UTC to  2015-01-01 22:00:00+00:00  UTC\n",
      "For fire no.  13\n",
      " Fire coordinates:  -13.2433 142.7325\n",
      " ERAI coordinates:  -13.5 142.5\n",
      "  Got data from  2013-12-31 02:00:00+00:00  UTC to  2015-01-01 22:00:00+00:00  UTC\n",
      "For fire no.  14\n",
      " Fire coordinates:  -12.3486 134.3238\n",
      " ERAI coordinates:  -12.0 134.25\n",
      "  Got data from  2013-12-31 02:00:00+00:00  UTC to  2015-01-01 22:00:00+00:00  UTC\n",
      "For fire no.  15\n",
      " Fire coordinates:  -12.4046 133.6374\n",
      " ERAI coordinates:  -12.75 133.5\n",
      "  Got data from  2013-12-31 02:00:00+00:00  UTC to  2015-01-01 22:00:00+00:00  UTC\n",
      "For fire no.  16\n",
      " Fire coordinates:  -12.2674 132.1737\n",
      " ERAI coordinates:  -12.0 132.0\n",
      "  Got data from  2013-12-31 02:00:00+00:00  UTC to  2015-01-01 22:00:00+00:00  UTC\n",
      "For fire no.  17\n",
      " Fire coordinates:  -13.0479 130.4249\n",
      " ERAI coordinates:  -12.75 130.5\n",
      "  Got data from  2013-12-31 02:00:00+00:00  UTC to  2015-01-01 22:00:00+00:00  UTC\n",
      "For fire no.  18\n",
      " Fire coordinates:  -13.8801 133.6546\n",
      " ERAI coordinates:  -14.25 133.5\n",
      "  Got data from  2013-12-31 02:00:00+00:00  UTC to  2015-01-01 22:00:00+00:00  UTC\n"
     ]
    },
    {
     "name": "stderr",
     "output_type": "stream",
     "text": [
      "/home/peter/anaconda2/lib/python2.7/site-packages/ipykernel/__main__.py:21: DeprecationWarning: assignment will raise an error in the future, most likely because your index result shape does not match the value array shape. You can use `arr.flat[index] = values` to keep the old behaviour.\n"
     ]
    }
   ],
   "source": [
    "# loop over latitude and longitude of fires\n",
    "nrecs = len(data[\"latitude\"])\n",
    "lat_indices = []\n",
    "lon_indices = []\n",
    "n = 0\n",
    "for i in range(100):\n",
    "    # dictionaries for erai and fire information and times\n",
    "    erai = {}; fire = {}; times_tts = {}\n",
    "    # put useful stuff in dictionaries\n",
    "    fire[\"latitude\"] = data[\"latitude\"][i]\n",
    "    fire[\"longitude\"] = data[\"longitude\"][i]\n",
    "    # index of fire in latitude dimension\n",
    "    fire[\"lat_index\"] = int(((latitude[0]-fire[\"latitude\"])/lat_resolution)+0.5)\n",
    "    erai[\"latitude\"] = latitude[fire[\"lat_index\"]]\n",
    "    # index of the fire in longitude dimension\n",
    "    if fire[\"longitude\"]<0: fire[\"longitude\"] = float(360) + fire[\"longitude\"]\n",
    "    fire[\"lon_index\"] = int(((fire[\"longitude\"]-longitude[0])/lon_resolution)+0.5)\n",
    "    erai[\"longitude\"] = longitude[fire[\"lon_index\"]]\n",
    "    # update the latitude and longitude index lists, these are used to reject fire\n",
    "    # locations that resolveto the same ERAI pixels\n",
    "    if i==0:\n",
    "        # add the indices if it is the first time through\n",
    "        lat_indices.append(fire[\"lat_index\"])\n",
    "        lon_indices.append(fire[\"lon_index\"])\n",
    "    # check to see if we have had this combination of indices before\n",
    "    if fire[\"lat_index\"] in lat_indices and fire[\"lon_index\"] in lon_indices:\n",
    "        # if we have, then move on to the next fire location\n",
    "        continue\n",
    "    else:\n",
    "        # if we haven't, then add these indices to the list of processed pixels\n",
    "        lat_indices.append(fire[\"lat_index\"])\n",
    "        lon_indices.append(fire[\"lon_index\"])\n",
    "    # ... and then go and do the processing\n",
    "    n += 1\n",
    "    print \"For fire no. \",n\n",
    "    print \" Fire coordinates: \",fire[\"latitude\"],fire[\"longitude\"]\n",
    "    print \" ERAI coordinates: \",erai[\"latitude\"],erai[\"longitude\"]\n",
    "    # now we get the datetime series at hourly time step\n",
    "    tdts = datetime.timedelta(minutes=60)\n",
    "    # get the start and end datetimes rounded to the nearest time steps\n",
    "    # that lie between the first and last times\n",
    "    start_date = qcutils.rounddttots(times_3hr[\"dt_erai_utc_cor\"][0],ts=60)\n",
    "    if start_date<times_3hr[\"dt_erai_utc_cor\"][0]: start_date = start_date+tdts\n",
    "    end_date = qcutils.rounddttots(times_3hr[\"dt_erai_utc_cor\"][-1],ts=60)\n",
    "    if end_date>times_3hr[\"dt_erai_utc_cor\"][-1]: end_date = end_date-tdts\n",
    "    print \"  Got data from \",start_date,\" UTC to \",end_date,\" UTC\"\n",
    "    # UTC datetime series at the tower time step\n",
    "    times_tts[\"dt_erai_utc_tts\"] = [x for x in qcutils.perdelta(start_date,end_date,tdts)]\n",
    "    # UTC netCDF time series at tower time step for interpolation\n",
    "    tmp = [x.replace(tzinfo=None) for x in times_tts[\"dt_erai_utc_tts\"]]\n",
    "    times_tts[\"erai_time_tts\"] = netCDF4.date2num(tmp,time_units)\n",
    "    # get the incoming short wave radiation\n",
    "    Fsd = get_Fsd(erai_file,times_3hr,times_tts,fire,erai)\n",
    "    # get the air temperature\n",
    "    Ta = get_Ta(erai_file,times_3hr,times_tts,fire)\n",
    "    # get the relative humidity\n",
    "    RH = get_RH(erai_file,times_3hr,times_tts,fire)\n",
    "    # get the wind speed\n",
    "    Ws,Wd = get_Ws_and_Wd(erai_file,times_3hr,times_tts,fire)\n",
    "    # get the precipitation\n",
    "    Precip = get_Precip(erai_file,times_3hr,times_tts,fire)\n",
    "    # construct the output file name\n",
    "    out_erai_name = file_path+str(year)+\"_\"+str(fire[\"lat_index\"])+\"_\"+str(fire[\"lon_index\"])+\".nc\"\n",
    "    out_file = netCDF4.Dataset(out_erai_name,\"w\")\n",
    "    # create the time dimension and the time variable\n",
    "    out_file.createDimension(\"time\",len(times_tts[\"erai_time_tts\"]))\n",
    "    ncVar = out_file.createVariable(\"time\",\"d\",(\"time\",))\n",
    "    ncVar[:] = times_tts[\"erai_time_tts\"]\n",
    "    setattr(ncVar,\"long_name\",\"time\")\n",
    "    setattr(ncVar,\"standard_name\",\"time\")\n",
    "    setattr(ncVar,\"units\",time_units)\n",
    "    setattr(ncVar,\"calendar\",\"gregorian\")\n",
    "    # write out the incoming short wave radiation\n",
    "    nc_write_series(out_file,\"Fsd\",Fsd)\n",
    "    # write out the air temperature\n",
    "    nc_write_series(out_file,\"Ta\",Ta)\n",
    "    # write out the relative humidity\n",
    "    nc_write_series(out_file,\"RH\",RH)\n",
    "    # write out the wind speed\n",
    "    nc_write_series(out_file,\"Ws\",Ws)\n",
    "    # write out the wind direction\n",
    "    nc_write_series(out_file,\"Wd\",Wd)\n",
    "    # write out the precipitation\n",
    "    nc_write_series(out_file,\"Precip\",Precip)\n",
    "    # close the netCDF file\n",
    "    out_file.close()"
   ]
  },
  {
   "cell_type": "code",
   "execution_count": 20,
   "metadata": {
    "collapsed": false
   },
   "outputs": [
    {
     "name": "stderr",
     "output_type": "stream",
     "text": [
      "/home/peter/anaconda2/lib/python2.7/site-packages/ipykernel/__main__.py:24: DeprecationWarning: assignment will raise an error in the future, most likely because your index result shape does not match the value array shape. You can use `arr.flat[index] = values` to keep the old behaviour.\n"
     ]
    }
   ],
   "source": [
    "times_tts = {}\n",
    "# UTC datetime series at the tower time step\n",
    "times_tts[\"dt_erai_utc_tts\"] = [x for x in qcutils.perdelta(start_date,end_date,tdts)]\n",
    "# UTC netCDF time series at tower time step for interpolation\n",
    "tmp = [x.replace(tzinfo=None) for x in times_tts[\"dt_erai_utc_tts\"]]\n",
    "times_tts[\"erai_time_tts\"] = netCDF4.date2num(tmp,time_units)\n",
    "# local pointers\n",
    "flati = fire[\"lat_index\"]\n",
    "floni = fire[\"lon_index\"]\n",
    "dt_erai_utc_cor = times_3hr[\"dt_erai_utc_cor\"]\n",
    "erai_time_3hr = times_3hr[\"erai_time_3hr\"]\n",
    "dt_erai_utc_tts = times_tts[\"dt_erai_utc_tts\"]\n",
    "erai_time_tts = times_tts[\"erai_time_tts\"]\n",
    "hour_utc = times_3hr[\"hour_utc\"]\n",
    "Precip_3d = erai_file.variables[\"tp\"][:,:,:]\n",
    "Precip_accum = Precip_3d[:,flati,floni]\n",
    "Precip_erai_3hr = numpy.ediff1d(Precip_accum,to_begin=0)\n",
    "idx = numpy.where((hour_utc==3)|(hour_utc==15))[0]\n",
    "Precip_erai_3hr[idx] = Precip_accum[idx]\n",
    "Precip_erai_3hr = Precip_erai_3hr*float(1000)\n",
    "Precip = {}\n",
    "Precip[\"data\"] = numpy.zeros(len(dt_erai_utc_tts))\n",
    "idx = qcutils.FindIndicesOfBInA(dt_erai_utc_cor,dt_erai_utc_tts)\n",
    "Precip[\"data\"][idx] = Precip_erai_3hr"
   ]
  },
  {
   "cell_type": "code",
   "execution_count": 21,
   "metadata": {
    "collapsed": false
   },
   "outputs": [],
   "source": [
    "fig=plt.figure()\n",
    "plt.plot(Precip[\"data\"])\n",
    "plt.show()"
   ]
  },
  {
   "cell_type": "code",
   "execution_count": 24,
   "metadata": {
    "collapsed": false
   },
   "outputs": [
    {
     "name": "stdout",
     "output_type": "stream",
     "text": [
      "0\n"
     ]
    }
   ],
   "source": [
    "idx = qcutils.FindIndicesOfBInA(dt_erai_utc_tts,dt_erai_utc_cor)\n",
    "print len(idx)"
   ]
  },
  {
   "cell_type": "code",
   "execution_count": 25,
   "metadata": {
    "collapsed": false
   },
   "outputs": [
    {
     "name": "stdout",
     "output_type": "stream",
     "text": [
      "[datetime.datetime(2013, 12, 31, 2, 0, tzinfo=<UTC>), datetime.datetime(2013, 12, 31, 3, 0, tzinfo=<UTC>), datetime.datetime(2013, 12, 31, 4, 0, tzinfo=<UTC>), datetime.datetime(2013, 12, 31, 5, 0, tzinfo=<UTC>), datetime.datetime(2013, 12, 31, 6, 0, tzinfo=<UTC>), datetime.datetime(2013, 12, 31, 7, 0, tzinfo=<UTC>), datetime.datetime(2013, 12, 31, 8, 0, tzinfo=<UTC>), datetime.datetime(2013, 12, 31, 9, 0, tzinfo=<UTC>), datetime.datetime(2013, 12, 31, 10, 0, tzinfo=<UTC>), datetime.datetime(2013, 12, 31, 11, 0, tzinfo=<UTC>), datetime.datetime(2013, 12, 31, 12, 0, tzinfo=<UTC>), datetime.datetime(2013, 12, 31, 13, 0, tzinfo=<UTC>), datetime.datetime(2013, 12, 31, 14, 0, tzinfo=<UTC>), datetime.datetime(2013, 12, 31, 15, 0, tzinfo=<UTC>), datetime.datetime(2013, 12, 31, 16, 0, tzinfo=<UTC>), datetime.datetime(2013, 12, 31, 17, 0, tzinfo=<UTC>), datetime.datetime(2013, 12, 31, 18, 0, tzinfo=<UTC>), datetime.datetime(2013, 12, 31, 19, 0, tzinfo=<UTC>), datetime.datetime(2013, 12, 31, 20, 0, tzinfo=<UTC>), datetime.datetime(2013, 12, 31, 21, 0, tzinfo=<UTC>), datetime.datetime(2013, 12, 31, 22, 0, tzinfo=<UTC>), datetime.datetime(2013, 12, 31, 23, 0, tzinfo=<UTC>), datetime.datetime(2014, 1, 1, 0, 0, tzinfo=<UTC>), datetime.datetime(2014, 1, 1, 1, 0, tzinfo=<UTC>)]\n",
      "[datetime.datetime(2013, 12, 31, 1, 30, tzinfo=<UTC>), datetime.datetime(2013, 12, 31, 4, 30, tzinfo=<UTC>), datetime.datetime(2013, 12, 31, 7, 30, tzinfo=<UTC>), datetime.datetime(2013, 12, 31, 10, 30, tzinfo=<UTC>), datetime.datetime(2013, 12, 31, 13, 30, tzinfo=<UTC>), datetime.datetime(2013, 12, 31, 16, 30, tzinfo=<UTC>)]\n"
     ]
    }
   ],
   "source": [
    "print erai_time_tts[0:24]\n",
    "print erai_time_cor[0:6]"
   ]
  },
  {
   "cell_type": "code",
   "execution_count": null,
   "metadata": {
    "collapsed": true
   },
   "outputs": [],
   "source": []
  }
 ],
 "metadata": {
  "kernelspec": {
   "display_name": "Python 3",
   "language": "python",
   "name": "python3"
  },
  "language_info": {
   "codemirror_mode": {
    "name": "ipython",
    "version": 3
   },
   "file_extension": ".py",
   "mimetype": "text/x-python",
   "name": "python",
   "nbconvert_exporter": "python",
   "pygments_lexer": "ipython3",
   "version": "3.5.1"
  }
 },
 "nbformat": 4,
 "nbformat_minor": 0
}
