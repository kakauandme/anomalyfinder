{
 "cells": [
  {
   "cell_type": "code",
   "execution_count": 9,
   "metadata": {
    "collapsed": true
   },
   "outputs": [],
   "source": [
    "'''Script that selects fires with intensity over 50 and saves the locations to the csv file\n",
    "We use fires with intensity over 50 in order to shrink our dataset and make it run faster '''\n",
    "import pandas as pd"
   ]
  },
  {
   "cell_type": "code",
   "execution_count": 8,
   "metadata": {
    "collapsed": false
   },
   "outputs": [
    {
     "name": "stdout",
     "output_type": "stream",
     "text": [
      "(444900, 4)\n"
     ]
    },
    {
     "data": {
      "text/html": [
       "<div>\n",
       "<table border=\"1\" class=\"dataframe\">\n",
       "  <thead>\n",
       "    <tr style=\"text-align: right;\">\n",
       "      <th></th>\n",
       "      <th>latitude</th>\n",
       "      <th>longitude</th>\n",
       "      <th>datetime</th>\n",
       "      <th>power</th>\n",
       "    </tr>\n",
       "  </thead>\n",
       "  <tbody>\n",
       "    <tr>\n",
       "      <th>0</th>\n",
       "      <td>-15.0460</td>\n",
       "      <td>144.3795</td>\n",
       "      <td>2015-01-01 01:04:50</td>\n",
       "      <td>14.2</td>\n",
       "    </tr>\n",
       "    <tr>\n",
       "      <th>1</th>\n",
       "      <td>-15.8927</td>\n",
       "      <td>136.6096</td>\n",
       "      <td>2015-01-01 01:00:50</td>\n",
       "      <td>11.9</td>\n",
       "    </tr>\n",
       "    <tr>\n",
       "      <th>2</th>\n",
       "      <td>-17.1466</td>\n",
       "      <td>145.8501</td>\n",
       "      <td>2015-01-01 01:00:50</td>\n",
       "      <td>10.0</td>\n",
       "    </tr>\n",
       "    <tr>\n",
       "      <th>3</th>\n",
       "      <td>-18.0796</td>\n",
       "      <td>122.6971</td>\n",
       "      <td>2015-01-01 02:41:30</td>\n",
       "      <td>11.1</td>\n",
       "    </tr>\n",
       "    <tr>\n",
       "      <th>4</th>\n",
       "      <td>-18.0764</td>\n",
       "      <td>122.6902</td>\n",
       "      <td>2015-01-01 02:45:40</td>\n",
       "      <td>11.0</td>\n",
       "    </tr>\n",
       "  </tbody>\n",
       "</table>\n",
       "</div>"
      ],
      "text/plain": [
       "   latitude  longitude            datetime  power\n",
       "0  -15.0460   144.3795 2015-01-01 01:04:50   14.2\n",
       "1  -15.8927   136.6096 2015-01-01 01:00:50   11.9\n",
       "2  -17.1466   145.8501 2015-01-01 01:00:50   10.0\n",
       "3  -18.0796   122.6971 2015-01-01 02:41:30   11.1\n",
       "4  -18.0764   122.6902 2015-01-01 02:45:40   11.0"
      ]
     },
     "execution_count": 8,
     "metadata": {},
     "output_type": "execute_result"
    }
   ],
   "source": [
    "#read the original file\n",
    "fname = 'hotspot_2015'\n",
    "fire = pd.read_csv(fname+\".csv\", parse_dates=['datetime'], usecols=['latitude','longitude','datetime', 'power'])\n",
    "print(fire.shape)\n",
    "fire.head()"
   ]
  },
  {
   "cell_type": "code",
   "execution_count": 30,
   "metadata": {
    "collapsed": false
   },
   "outputs": [
    {
     "name": "stdout",
     "output_type": "stream",
     "text": [
      "(33122, 4)\n"
     ]
    }
   ],
   "source": [
    "#select only fires with intencities greater than 50\n",
    "fire=fire.dropna() \n",
    "fire50=fire.drop(fire[fire.power<=50].index)\n",
    "\n",
    "print(fire50.shape)"
   ]
  },
  {
   "cell_type": "code",
   "execution_count": 31,
   "metadata": {
    "collapsed": true
   },
   "outputs": [],
   "source": [
    "#save trimmed dataset into csv\n",
    "fnamesave = 'hotspot_2015_power50.csv'\n",
    "pd.DataFrame.to_csv(fire50,fnamesave)"
   ]
  }
 ],
 "metadata": {
  "kernelspec": {
   "display_name": "Python 3",
   "language": "python",
   "name": "python3"
  },
  "language_info": {
   "codemirror_mode": {
    "name": "ipython",
    "version": 3
   },
   "file_extension": ".py",
   "mimetype": "text/x-python",
   "name": "python",
   "nbconvert_exporter": "python",
   "pygments_lexer": "ipython3",
   "version": "3.5.1"
  }
 },
 "nbformat": 4,
 "nbformat_minor": 0
}
